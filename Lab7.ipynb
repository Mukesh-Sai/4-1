{
  "cells": [
    {
      "cell_type": "code",
      "execution_count": null,
      "id": "cf4b5b6f",
      "metadata": {
        "id": "cf4b5b6f"
      },
      "outputs": [],
      "source": [
        "import numpy as np"
      ]
    },
    {
      "cell_type": "code",
      "execution_count": null,
      "id": "700f572f",
      "metadata": {
        "colab": {
          "base_uri": "https://localhost:8080/"
        },
        "id": "700f572f",
        "outputId": "226a4521-8e9d-4c85-d567-f0bc5cc2db7d"
      },
      "outputs": [
        {
          "output_type": "execute_result",
          "data": {
            "text/plain": [
              "(4, 2)"
            ]
          },
          "metadata": {},
          "execution_count": 2
        }
      ],
      "source": [
        "x = np.array([[0,0],[0,1],[1,0],[1,1]])\n",
        "x.shape"
      ]
    },
    {
      "cell_type": "code",
      "execution_count": null,
      "id": "570721d8",
      "metadata": {
        "colab": {
          "base_uri": "https://localhost:8080/"
        },
        "id": "570721d8",
        "outputId": "b869945e-3618-4044-9ddd-ce4b7c25d493"
      },
      "outputs": [
        {
          "output_type": "execute_result",
          "data": {
            "text/plain": [
              "(4,)"
            ]
          },
          "metadata": {},
          "execution_count": 34
        }
      ],
      "source": [
        "y = np.array([0,0,0,1]).T\n",
        "y.shape"
      ]
    },
    {
      "cell_type": "code",
      "execution_count": null,
      "id": "3c036925",
      "metadata": {
        "colab": {
          "base_uri": "https://localhost:8080/"
        },
        "id": "3c036925",
        "outputId": "0b45f7c3-f42b-4046-bf80-842c7ac77f66"
      },
      "outputs": [
        {
          "output_type": "execute_result",
          "data": {
            "text/plain": [
              "((4, 2), (4,))"
            ]
          },
          "metadata": {},
          "execution_count": 4
        }
      ],
      "source": [
        "x.shape,y.shape"
      ]
    },
    {
      "cell_type": "code",
      "execution_count": null,
      "id": "86701bbb",
      "metadata": {
        "id": "86701bbb"
      },
      "outputs": [],
      "source": [
        "def sigmoid(z):\n",
        "    return (1/1+np.exp(-z))"
      ]
    },
    {
      "cell_type": "code",
      "execution_count": null,
      "id": "89a71848",
      "metadata": {
        "id": "89a71848"
      },
      "outputs": [],
      "source": [
        "def derivative_sigmoid(z):\n",
        "    return sigmoid(z)*(1-sigmoid(z))"
      ]
    },
    {
      "cell_type": "code",
      "execution_count": null,
      "id": "89c220bb",
      "metadata": {
        "id": "89c220bb"
      },
      "outputs": [],
      "source": [
        "# without any hidden layer\n",
        "weights = 2*np.random.random((2,1)) -1"
      ]
    },
    {
      "cell_type": "code",
      "execution_count": null,
      "id": "0f403de4",
      "metadata": {
        "colab": {
          "base_uri": "https://localhost:8080/"
        },
        "id": "0f403de4",
        "outputId": "0e4cddfd-3cb6-4dde-eb69-a73c4c0e6947"
      },
      "outputs": [
        {
          "output_type": "execute_result",
          "data": {
            "text/plain": [
              "array([[ 0.44065529],\n",
              "       [-0.41436776]])"
            ]
          },
          "metadata": {},
          "execution_count": 8
        }
      ],
      "source": [
        "weights"
      ]
    },
    {
      "cell_type": "code",
      "execution_count": null,
      "id": "be76cc9c",
      "metadata": {
        "id": "be76cc9c"
      },
      "outputs": [],
      "source": [
        "bias = 2*np.random.random((1))-1"
      ]
    },
    {
      "cell_type": "code",
      "execution_count": null,
      "id": "a44ea215",
      "metadata": {
        "colab": {
          "base_uri": "https://localhost:8080/"
        },
        "id": "a44ea215",
        "outputId": "f1a56377-6a45-4cfb-ab2b-b0f4eb06828b"
      },
      "outputs": [
        {
          "output_type": "execute_result",
          "data": {
            "text/plain": [
              "array([-0.01892003])"
            ]
          },
          "metadata": {},
          "execution_count": 10
        }
      ],
      "source": [
        "bias"
      ]
    },
    {
      "cell_type": "code",
      "execution_count": null,
      "id": "803c4b82",
      "metadata": {
        "id": "803c4b82"
      },
      "outputs": [],
      "source": [
        "#forward propagation\n",
        "output0 = x\n",
        "output = sigmoid(np.dot(output0,weights)+bias)"
      ]
    },
    {
      "cell_type": "code",
      "execution_count": null,
      "id": "4001fd52",
      "metadata": {
        "colab": {
          "base_uri": "https://localhost:8080/"
        },
        "id": "4001fd52",
        "outputId": "9a69cb50-45ec-442f-8d25-9020020f7bb6"
      },
      "outputs": [
        {
          "output_type": "execute_result",
          "data": {
            "text/plain": [
              "array([[2.01910015],\n",
              "       [2.54232002],\n",
              "       [1.65590766],\n",
              "       [1.99265958]])"
            ]
          },
          "metadata": {},
          "execution_count": 12
        }
      ],
      "source": [
        "output"
      ]
    },
    {
      "cell_type": "code",
      "execution_count": null,
      "id": "c24568d4",
      "metadata": {
        "colab": {
          "base_uri": "https://localhost:8080/"
        },
        "id": "c24568d4",
        "outputId": "2f3819af-aef6-4317-ee02-8d68e6446cd6"
      },
      "outputs": [
        {
          "output_type": "execute_result",
          "data": {
            "text/plain": [
              "(array([[ 0.03727525,  0.6700527 ],\n",
              "        [-0.91681337, -0.67728098]]), array([[-0.83862221,  0.45519617]]))"
            ]
          },
          "metadata": {},
          "execution_count": 13
        }
      ],
      "source": [
        "wh = 2*np.random.random((2,2)) -1\n",
        "bh = 2*np.random.random((1,2)) -1\n",
        "wh,bh"
      ]
    },
    {
      "cell_type": "code",
      "execution_count": null,
      "id": "f2510224",
      "metadata": {
        "colab": {
          "base_uri": "https://localhost:8080/"
        },
        "id": "f2510224",
        "outputId": "cc639815-7edd-4537-fbb5-4c5d88bb66e8"
      },
      "outputs": [
        {
          "output_type": "execute_result",
          "data": {
            "text/plain": [
              "(array([[0.88655262],\n",
              "        [0.21331546]]), array([[0.18386087]]))"
            ]
          },
          "metadata": {},
          "execution_count": 14
        }
      ],
      "source": [
        "w0 = 2*np.random.random((2,1))-1\n",
        "b0 = 2*np.random.random((1,1))-1\n",
        "w0,b0"
      ]
    },
    {
      "cell_type": "code",
      "execution_count": null,
      "id": "fc6ca24f",
      "metadata": {
        "colab": {
          "base_uri": "https://localhost:8080/"
        },
        "id": "fc6ca24f",
        "outputId": "3dc80afc-0b94-41c6-8078-3627b069c7ca"
      },
      "outputs": [
        {
          "output_type": "execute_result",
          "data": {
            "text/plain": [
              "array([[3.31317771, 1.63432352],\n",
              "       [6.78596747, 2.24867726],\n",
              "       [3.22854066, 1.32457168],\n",
              "       [6.57426423, 1.63892519]])"
            ]
          },
          "metadata": {},
          "execution_count": 15
        }
      ],
      "source": [
        "output0 = x\n",
        "outputHidden = sigmoid(np.dot(output0,wh)+bh)\n",
        "outputHidden.shape\n",
        "outputHidden"
      ]
    },
    {
      "cell_type": "code",
      "execution_count": null,
      "id": "d344823a",
      "metadata": {
        "id": "d344823a"
      },
      "outputs": [],
      "source": [
        "finalOutput = sigmoid(np.dot(outputHidden,w0)+b0)"
      ]
    },
    {
      "cell_type": "code",
      "execution_count": null,
      "id": "f1fc88ac",
      "metadata": {
        "colab": {
          "base_uri": "https://localhost:8080/"
        },
        "id": "f1fc88ac",
        "outputId": "a5a06be2-f0a7-400e-915d-19e7d5c314c8"
      },
      "outputs": [
        {
          "output_type": "execute_result",
          "data": {
            "text/plain": [
              "array([[1.03112345],\n",
              "       [1.00125621],\n",
              "       [1.03584025],\n",
              "       [1.00172608]])"
            ]
          },
          "metadata": {},
          "execution_count": 17
        }
      ],
      "source": [
        "finalOutput"
      ]
    },
    {
      "cell_type": "markdown",
      "id": "b5442ea9",
      "metadata": {
        "id": "b5442ea9"
      },
      "source": [
        "# basic neural network i.e., no hidden layer"
      ]
    },
    {
      "cell_type": "code",
      "execution_count": null,
      "id": "9a0f0d5a",
      "metadata": {
        "colab": {
          "base_uri": "https://localhost:8080/"
        },
        "id": "9a0f0d5a",
        "outputId": "ba0d55ca-dd6e-42e1-8063-6cf8de260ffc"
      },
      "outputs": [
        {
          "output_type": "execute_result",
          "data": {
            "text/plain": [
              "(4, 2)"
            ]
          },
          "metadata": {},
          "execution_count": 18
        }
      ],
      "source": [
        "X = np.array([[0,0],[0,1],[1,0],[1,1]])\n",
        "X.shape"
      ]
    },
    {
      "cell_type": "code",
      "execution_count": null,
      "id": "7432cee1",
      "metadata": {
        "id": "7432cee1"
      },
      "outputs": [],
      "source": [
        "Y = np.array([[0,0,0,1]]).T"
      ]
    },
    {
      "cell_type": "code",
      "execution_count": null,
      "id": "c7a8c6f4",
      "metadata": {
        "id": "c7a8c6f4"
      },
      "outputs": [],
      "source": [
        "def sig(z):\n",
        "    return 1/(1+np.exp(-z))"
      ]
    },
    {
      "cell_type": "code",
      "execution_count": null,
      "id": "881a0645",
      "metadata": {
        "id": "881a0645"
      },
      "outputs": [],
      "source": [
        "def derivative_sig(z):\n",
        "    return sig(z)*(1-sig(z))"
      ]
    },
    {
      "cell_type": "code",
      "execution_count": null,
      "id": "b333903b",
      "metadata": {
        "id": "b333903b"
      },
      "outputs": [],
      "source": [
        "new_weights = 2*np.random.random((2,1)) -1\n",
        "new_bias = 2*np.random.random((1))-1\n",
        "lr = 0.1"
      ]
    },
    {
      "cell_type": "code",
      "execution_count": null,
      "id": "cf2361fd",
      "metadata": {
        "id": "cf2361fd"
      },
      "outputs": [],
      "source": [
        "for i in range(100000):\n",
        "    new_output0 = X\n",
        "    new_output = sig(np.dot(new_output0, new_weights) + new_bias)\n",
        "\n",
        "    first_term = new_output - Y\n",
        "    input_for_first_layer = np.dot(new_output0, new_weights) + new_bias\n",
        "    second_term = derivative_sig(input_for_first_layer)\n",
        "    first_two = first_term * second_term\n",
        "    first_two.shape\n",
        "\n",
        "    changes = np.array([[0.0],[0.0]])  # considering this shape becoze the shape of new_weights is (2 x 1)\n",
        "    for i in range(2):\n",
        "        for j in range(4):\n",
        "            changes[i][0] += first_two[j][0] * new_output0[j][i]\n",
        "    changes\n",
        "    new_weights = new_weights - lr*changes\n",
        "\n",
        "    bias_change = 0.0\n",
        "    for j in range(4):\n",
        "            bias_change += first_two[j][0] * 1\n",
        "    new_bias = new_bias - lr*bias_change\n"
      ]
    },
    {
      "cell_type": "code",
      "execution_count": null,
      "id": "ef5d8065",
      "metadata": {
        "id": "ef5d8065"
      },
      "outputs": [],
      "source": [
        "new_output = sig(np.dot(X, new_weights) + new_bias)"
      ]
    },
    {
      "cell_type": "code",
      "execution_count": null,
      "id": "c370a335",
      "metadata": {
        "colab": {
          "base_uri": "https://localhost:8080/"
        },
        "id": "c370a335",
        "outputId": "5960e0c9-ff4c-4317-f248-3ba807ba7767"
      },
      "outputs": [
        {
          "output_type": "execute_result",
          "data": {
            "text/plain": [
              "(array([[8.01881584],\n",
              "        [8.01881584]]), array([-12.11468979]))"
            ]
          },
          "metadata": {},
          "execution_count": 25
        }
      ],
      "source": [
        "new_weights,new_bias"
      ]
    },
    {
      "cell_type": "code",
      "execution_count": null,
      "id": "86bce720",
      "metadata": {
        "colab": {
          "base_uri": "https://localhost:8080/"
        },
        "id": "86bce720",
        "outputId": "6bbc802e-9e40-4a49-9d76-023f80d7ab07"
      },
      "outputs": [
        {
          "output_type": "execute_result",
          "data": {
            "text/plain": [
              "array([[5.47841209e-06],\n",
              "       [1.63688001e-02],\n",
              "       [1.63688001e-02],\n",
              "       [9.80600958e-01]])"
            ]
          },
          "metadata": {},
          "execution_count": 26
        }
      ],
      "source": [
        "new_output"
      ]
    },
    {
      "cell_type": "code",
      "execution_count": null,
      "id": "a678a584",
      "metadata": {
        "colab": {
          "base_uri": "https://localhost:8080/"
        },
        "id": "a678a584",
        "outputId": "24eb316a-775b-40a0-8415-6b98c39664b1"
      },
      "outputs": [
        {
          "output_type": "execute_result",
          "data": {
            "text/plain": [
              "(array([[-5.19157978e-05],\n",
              "        [-5.19157978e-05]]), 7.78311211770011e-05, array([[1.84773363e-06],\n",
              "        [1.14564353e-02],\n",
              "        [1.14564353e-02],\n",
              "        [9.86429408e-01]]))"
            ]
          },
          "metadata": {},
          "execution_count": 27
        }
      ],
      "source": [
        "# this is the same procedure but instead of looping just use vector multiplication\n",
        "for i in range(100000):\n",
        "    new_output0 = X\n",
        "    new_output = sig(np.dot(new_output0, new_weights) + new_bias)\n",
        "\n",
        "    first_term = new_output - Y\n",
        "    input_for_first_layer = np.dot(new_output0, new_weights) + new_bias\n",
        "    second_term = derivative_sig(input_for_first_layer)\n",
        "    first_two = first_term * second_term\n",
        "    first_two.shape\n",
        "\n",
        "    changes = np.array([[0.0],[0.0]])  # considering this shape becoze the shape of new_weights is (2 x 1)\n",
        "    changes = np.dot(new_output0.T, first_two)\n",
        "    changes\n",
        "    new_weights = new_weights - lr*changes\n",
        "\n",
        "    bias_change = np.sum(first_two)\n",
        "    new_bias = new_bias - lr*bias_change\n",
        "new_output = sig(np.dot(X, new_weights) + new_bias)\n",
        "changes,bias_change,new_output"
      ]
    },
    {
      "cell_type": "markdown",
      "id": "bb0e52be",
      "metadata": {
        "id": "bb0e52be"
      },
      "source": [
        "# forward propagation and backward propagation code for neural network which has hidden layer"
      ]
    },
    {
      "cell_type": "code",
      "execution_count": null,
      "id": "46259183",
      "metadata": {
        "id": "46259183"
      },
      "outputs": [],
      "source": [
        "X = np.array([[0,0],[0,1],[1,0],[1,1]])"
      ]
    },
    {
      "cell_type": "code",
      "execution_count": null,
      "id": "c9ed1dc0",
      "metadata": {
        "id": "c9ed1dc0"
      },
      "outputs": [],
      "source": [
        "Y = np.array([[0,1,1,0]]).T"
      ]
    },
    {
      "cell_type": "code",
      "execution_count": null,
      "id": "fa4323ec",
      "metadata": {
        "id": "fa4323ec"
      },
      "outputs": [],
      "source": [
        "def hsig(z):\n",
        "    return 1/(1+np.exp(-z))"
      ]
    },
    {
      "cell_type": "code",
      "execution_count": null,
      "id": "120ef66a",
      "metadata": {
        "id": "120ef66a"
      },
      "outputs": [],
      "source": [
        "def hderivative_sig(z):\n",
        "    return hsig(z)*(1-hsig(z))"
      ]
    },
    {
      "cell_type": "code",
      "execution_count": null,
      "id": "560b464a",
      "metadata": {
        "id": "560b464a"
      },
      "outputs": [],
      "source": [
        "weight_hidden = 2*np.random.random((2,2))-1\n",
        "bias_hidden = 2*np.random.random((1,2))-1\n",
        "weight_output = 2*np.random.random((2,1))-1\n",
        "bias_output = 2*np.random.random((1,1))-1\n",
        "learning_rate = 0.1"
      ]
    },
    {
      "cell_type": "code",
      "execution_count": null,
      "id": "eda3cf79",
      "metadata": {
        "colab": {
          "base_uri": "https://localhost:8080/"
        },
        "id": "eda3cf79",
        "outputId": "518755fd-b7ad-49ec-fd31-451f9e57b9be"
      },
      "outputs": [
        {
          "output_type": "execute_result",
          "data": {
            "text/plain": [
              "(array([[0.01086209],\n",
              "        [0.98765156],\n",
              "        [0.9876511 ],\n",
              "        [0.01160571]]), array([[ 5.08407881, -6.41605366],\n",
              "        [ 5.08422768, -6.4166316 ]]), array([[-7.89383583,  2.55738282]]), array([[-10.63854654],\n",
              "        [-10.46234282]]), array([[5.2021773]]))"
            ]
          },
          "metadata": {},
          "execution_count": 33
        }
      ],
      "source": [
        "#forward propagation\n",
        "for i in range(100000):\n",
        "    h_output0 = X\n",
        "    input_hidden = np.dot(h_output0,weight_hidden)+bias_hidden\n",
        "    h_output_hidden = hsig(input_hidden)\n",
        "    inputForOutputLayer = np.dot(h_output_hidden,weight_output)+bias_output\n",
        "    h_output = hsig(inputForOutputLayer)\n",
        "\n",
        "    #this is for the outer most layer where y_pred is done\n",
        "    first_term_for_output_layer = h_output - Y\n",
        "    second_term_for_output_layer = hderivative_sig(inputForOutputLayer)\n",
        "    first_two_output_layer = first_term_for_output_layer * second_term_for_output_layer\n",
        "\n",
        "    #this is for the hidden layer i.e., we r using the backpropagation\n",
        "    first_term_hidden_layer = np.dot(first_two_output_layer, weight_output.T)\n",
        "    second_term_hidden_layer = hderivative_sig(input_hidden)\n",
        "    first_two_hidden_layer = first_term_hidden_layer * second_term_hidden_layer\n",
        "\n",
        "    #   for i in range(100000):\n",
        "    #     new_output0 = X\n",
        "    #       new_output = sig(np.dot(new_output0, new_weights) + new_bias)\n",
        "    #\n",
        "    #       first_term = new_output - Y\n",
        "    #        input_for_first_layer = np.dot(new_output0, new_weights) + new_bias\n",
        "    #        second_term = derivative_sig(input_for_first_layer)\n",
        "    #        first_two = first_term * second_ter#m\n",
        "    #        first_two.shape\n",
        "\n",
        "    #        changes = np.array([[0.0],[0.0]])  # considering this shape becoze the shape of new_weights is (2 x 1)\n",
        "    #        changes = np.dot(new_output0.T, first_two)\n",
        "    #        changes\n",
        "    #        new_weights = new_weights - lr*changes\n",
        "\n",
        "    #        bias_change = np.sum(first_two)\n",
        "    #        new_bias = new_bias - lr*bias_change\n",
        "\n",
        "    # here on the calculation part for finding the changes of the current layer we require first_two_terms of current_layer with the\n",
        "    # multiplication of the previous layer in Transpose to back propagate the error\n",
        "    changes_output = np.dot(h_output_hidden.T, first_two_output_layer)\n",
        "    changes_output_bias = np.sum(first_two_output_layer, axis = 0,keepdims = True)\n",
        "\n",
        "    changes_hidden = np.dot(h_output0.T, first_two_hidden_layer)\n",
        "    changes_hidden_bias = np.sum(first_two_hidden_layer, axis = 0,keepdims = True)\n",
        "\n",
        "    weight_output = weight_output - learning_rate * changes_output\n",
        "    bias_output = bias_output - learning_rate * changes_output_bias\n",
        "\n",
        "    weight_hidden = weight_hidden - learning_rate * changes_hidden\n",
        "    bias_hidden = bias_hidden - learning_rate * changes_hidden_bias\n",
        "    \n",
        "h_output0 = X\n",
        "input_hidden = np.dot(h_output0,weight_hidden)+bias_hidden\n",
        "h_output_hidden = hsig(input_hidden)\n",
        "inputForOutputLayer = np.dot(h_output_hidden,weight_output)+bias_output\n",
        "h_output = hsig(inputForOutputLayer)\n",
        "\n",
        "h_output,weight_hidden,bias_hidden,weight_output,bias_output"
      ]
    },
    {
      "cell_type": "code",
      "execution_count": null,
      "id": "d730d2ae",
      "metadata": {
        "id": "d730d2ae"
      },
      "outputs": [],
      "source": []
    }
  ],
  "metadata": {
    "kernelspec": {
      "display_name": "Python 3 (ipykernel)",
      "language": "python",
      "name": "python3"
    },
    "language_info": {
      "codemirror_mode": {
        "name": "ipython",
        "version": 3
      },
      "file_extension": ".py",
      "mimetype": "text/x-python",
      "name": "python",
      "nbconvert_exporter": "python",
      "pygments_lexer": "ipython3",
      "version": "3.9.7"
    },
    "colab": {
      "provenance": []
    }
  },
  "nbformat": 4,
  "nbformat_minor": 5
}