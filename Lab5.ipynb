{
  "nbformat": 4,
  "nbformat_minor": 0,
  "metadata": {
    "colab": {
      "provenance": [],
      "collapsed_sections": []
    },
    "kernelspec": {
      "name": "python3",
      "display_name": "Python 3"
    },
    "language_info": {
      "name": "python"
    },
    "accelerator": "GPU",
    "gpuClass": "standard"
  },
  "cells": [
    {
      "cell_type": "markdown",
      "source": [
        "Perform this activity under GPU runtime i.e., while opening the colab notebook there is an option of Runtime there under that it has change runtime type a box will appear from there click on drop down menu and check the GPU instead of None, hence it will lead to faster computation and will take some time to get computer"
      ],
      "metadata": {
        "id": "FLThSK9CniLd"
      }
    },
    {
      "cell_type": "code",
      "execution_count": null,
      "metadata": {
        "id": "HhEhh67mZYbO"
      },
      "outputs": [],
      "source": [
        "# these are some of the modules\n",
        "import tensorflow as tf # tensorflow is the module used in deep learning for complex computing\n",
        "import keras # keras is the API which works on tensorflow to make accessibility of tensorflow easier\n",
        "from keras.datasets import mnist # code to import mnist data from keras library\n",
        "# not downloading and mounting because it a heavy file\n",
        "import matplotlib.pyplot as plt # used to plot images,graphs\n",
        "import numpy as np # used for mathematical calculations in 2d arrays\n",
        "from keras import models # used to get the sequential flow layer for neural networks\n",
        "from keras.layers import Dense,MaxPooling2D,Flatten,Conv2D,Dropout\n",
        "# These all are neural layers  \n",
        "# Dense layer is typical artificial neural networks\n",
        "# MaxPooling2D layer is used to reduce the complexity of image\n",
        "# Flatten is used to convert 2d image into 1d image ie., in an array form\n",
        "# Conv2d is used in image processing and its too a neural layer\n",
        "# Dropout layer is used in model so it does not do overfitting"
      ]
    },
    {
      "cell_type": "code",
      "source": [
        "# loading the data from keras and storing accordingly in train and test\n",
        "(x_train,y_train), (x_test,y_test) = mnist.load_data()"
      ],
      "metadata": {
        "colab": {
          "base_uri": "https://localhost:8080/"
        },
        "id": "2-k4IyHRZko9",
        "outputId": "5f57e5c3-15e8-4d42-f6eb-5d4c1607ae51"
      },
      "execution_count": null,
      "outputs": [
        {
          "output_type": "stream",
          "name": "stdout",
          "text": [
            "Downloading data from https://storage.googleapis.com/tensorflow/tf-keras-datasets/mnist.npz\n",
            "11493376/11490434 [==============================] - 0s 0us/step\n",
            "11501568/11490434 [==============================] - 0s 0us/step\n"
          ]
        }
      ]
    },
    {
      "cell_type": "code",
      "source": [
        "# an example how to look onto image from img data\n",
        "plt.imshow(x_train[0])"
      ],
      "metadata": {
        "colab": {
          "base_uri": "https://localhost:8080/",
          "height": 282
        },
        "id": "mzyA4C3qaUxK",
        "outputId": "86250699-cc32-4abf-9d4c-26373f46c0da"
      },
      "execution_count": null,
      "outputs": [
        {
          "output_type": "execute_result",
          "data": {
            "text/plain": [
              "<matplotlib.image.AxesImage at 0x7f8b3a2bc190>"
            ]
          },
          "metadata": {},
          "execution_count": 3
        },
        {
          "output_type": "display_data",
          "data": {
            "text/plain": [
              "<Figure size 432x288 with 1 Axes>"
            ],
            "image/png": "[encoded data removed]"
          },
          "metadata": {
            "needs_background": "light"
          }
        }
      ]
    },
    {
      "cell_type": "code",
      "source": [
        "# reshaping the train and test file of x_feature into 3D from 2D\n",
        "x_train = np.reshape(x_train,(-1,28,28,1))\n",
        "x_test = np.reshape(x_test,(-1,28,28,1))"
      ],
      "metadata": {
        "id": "VQSNhrNNbE8h"
      },
      "execution_count": null,
      "outputs": []
    },
    {
      "cell_type": "code",
      "source": [
        "# Shape of training datas\n",
        "x_train.shape,x_test.shape"
      ],
      "metadata": {
        "colab": {
          "base_uri": "https://localhost:8080/"
        },
        "id": "PhJau3kMbdMn",
        "outputId": "8527ca84-578b-4587-d47e-aae5e12af6cd"
      },
      "execution_count": null,
      "outputs": [
        {
          "output_type": "execute_result",
          "data": {
            "text/plain": [
              "((60000, 28, 28, 1), (10000, 28, 28, 1))"
            ]
          },
          "metadata": {},
          "execution_count": 5
        }
      ]
    },
    {
      "cell_type": "code",
      "source": [
        "# One hot encoding the y_labels of train and test\n",
        "y_train = tf.keras.utils.to_categorical(y_train)\n",
        "y_test = tf.keras.utils.to_categorical(y_test)"
      ],
      "metadata": {
        "id": "OwTeYXGYbesn"
      },
      "execution_count": null,
      "outputs": []
    },
    {
      "cell_type": "code",
      "source": [
        "# since the no. possible is from 0 to 9 so it has been encodded in such a way\n",
        "# that if the number is 5 then on the 6th index it will make it 1 and rest 0\n",
        "# that is one hot encoding\n",
        "y_train[0]"
      ],
      "metadata": {
        "colab": {
          "base_uri": "https://localhost:8080/"
        },
        "id": "UGaPuJ46l5Fg",
        "outputId": "222c82f0-6f50-4fc7-e566-95da62cf6df2"
      },
      "execution_count": null,
      "outputs": [
        {
          "output_type": "execute_result",
          "data": {
            "text/plain": [
              "array([0., 0., 0., 0., 0., 1., 0., 0., 0., 0.], dtype=float32)"
            ]
          },
          "metadata": {},
          "execution_count": 7
        }
      ]
    },
    {
      "cell_type": "code",
      "source": [
        "# shape of training labels of y\n",
        "y_train.shape,y_test.shape"
      ],
      "metadata": {
        "colab": {
          "base_uri": "https://localhost:8080/"
        },
        "id": "h55GEeiFbnwg",
        "outputId": "c765f201-33e9-44b3-bca6-3e9ffd43361c"
      },
      "execution_count": null,
      "outputs": [
        {
          "output_type": "execute_result",
          "data": {
            "text/plain": [
              "((60000, 10), (10000, 10))"
            ]
          },
          "metadata": {},
          "execution_count": 8
        }
      ]
    },
    {
      "cell_type": "code",
      "source": [
        "# choosing our flow of neural netowrk ie., in sequential order\n",
        "new_model = keras.Sequential()"
      ],
      "metadata": {
        "id": "BNa5QAnPbp5L"
      },
      "execution_count": null,
      "outputs": []
    },
    {
      "cell_type": "code",
      "source": [
        "# these are the bunch of neual layers making it a neural networks with \n",
        "# multiple hyperparameters\n",
        "conv1 = Conv2D(32, kernel_size = (5,5), strides = (1,1), padding = 'same', data_format = 'channels_last', activation = 'relu', use_bias = True, input_shape = (28,28,1))\n",
        "max_pool1 = MaxPooling2D(pool_size = (2,2), strides = (1,1), padding = 'same', data_format = 'channels_last')\n",
        "conv2 = Conv2D(64, kernel_size = (5,5), strides = (1,1), padding = 'same', data_format = 'channels_last', activation = 'relu', use_bias = True) \n",
        "max_pool2 = MaxPooling2D(pool_size = (2,2), strides = (1,1), padding = 'same', data_format = 'channels_last')\n",
        "flat_layer = Flatten()\n",
        "dense_layer = Dense(1024, activation = 'relu', use_bias = True)\n",
        "drop_layer = Dropout(0.4)\n",
        "output_layer = Dense(10, activation = 'softmax', use_bias = True)"
      ],
      "metadata": {
        "id": "8fK5N6kkcCXR"
      },
      "execution_count": null,
      "outputs": []
    },
    {
      "cell_type": "code",
      "source": [
        "# adding the neural layers into sequential model for sequential flow\n",
        "new_model.add(conv1)\n",
        "new_model.add(max_pool1)\n",
        "new_model.add(conv2)\n",
        "new_model.add(max_pool2)\n",
        "new_model.add(flat_layer)\n",
        "new_model.add(dense_layer)\n",
        "new_model.add(drop_layer)\n",
        "new_model.add(output_layer)"
      ],
      "metadata": {
        "id": "pnm8hqpjcbde"
      },
      "execution_count": null,
      "outputs": []
    },
    {
      "cell_type": "code",
      "source": [
        "# looking the model summary with with total parameters to be trained is 51,443,594\n",
        "new_model.summary()"
      ],
      "metadata": {
        "colab": {
          "base_uri": "https://localhost:8080/"
        },
        "id": "ZLvEM-DzdT_y",
        "outputId": "efcf1fc8-0842-4451-9334-827484cae50b"
      },
      "execution_count": null,
      "outputs": [
        {
          "output_type": "stream",
          "name": "stdout",
          "text": [
            "Model: \"sequential\"\n",
            "_________________________________________________________________\n",
            " Layer (type)                Output Shape              Param #   \n",
            "=================================================================\n",
            " conv2d (Conv2D)             (None, 28, 28, 32)        832       \n",
            "                                                                 \n",
            " max_pooling2d (MaxPooling2D  (None, 28, 28, 32)       0         \n",
            " )                                                               \n",
            "                                                                 \n",
            " conv2d_1 (Conv2D)           (None, 28, 28, 64)        51264     \n",
            "                                                                 \n",
            " max_pooling2d_1 (MaxPooling  (None, 28, 28, 64)       0         \n",
            " 2D)                                                             \n",
            "                                                                 \n",
            " flatten (Flatten)           (None, 50176)             0         \n",
            "                                                                 \n",
            " dense (Dense)               (None, 1024)              51381248  \n",
            "                                                                 \n",
            " dropout (Dropout)           (None, 1024)              0         \n",
            "                                                                 \n",
            " dense_1 (Dense)             (None, 10)                10250     \n",
            "                                                                 \n",
            "=================================================================\n",
            "Total params: 51,443,594\n",
            "Trainable params: 51,443,594\n",
            "Non-trainable params: 0\n",
            "_________________________________________________________________\n"
          ]
        }
      ]
    },
    {
      "cell_type": "code",
      "source": [
        "# compiling the model \n",
        "new_model.compile(optimizer = 'rmsprop',loss = keras.losses.categorical_crossentropy,metrics = ['accuracy'])"
      ],
      "metadata": {
        "id": "ST2B_YrIcd0U"
      },
      "execution_count": null,
      "outputs": []
    },
    {
      "cell_type": "code",
      "source": [
        "# fitting the model with training data\n",
        "new_model.fit(x_train,y_train,batch_size = 50,epochs = 20)"
      ],
      "metadata": {
        "colab": {
          "base_uri": "https://localhost:8080/"
        },
        "id": "80cxhT8gcxvb",
        "outputId": "c26e01cb-a44b-4cca-a24e-98f703355de3"
      },
      "execution_count": null,
      "outputs": [
        {
          "output_type": "stream",
          "name": "stdout",
          "text": [
            "Epoch 1/20\n",
            "1200/1200 [==============================] - 45s 28ms/step - loss: 2.2673 - accuracy: 0.9209\n",
            "Epoch 2/20\n",
            "1200/1200 [==============================] - 33s 28ms/step - loss: 0.1571 - accuracy: 0.9637\n",
            "Epoch 3/20\n",
            "1200/1200 [==============================] - 33s 28ms/step - loss: 0.1401 - accuracy: 0.9685\n",
            "Epoch 4/20\n",
            "1200/1200 [==============================] - 33s 28ms/step - loss: 0.1622 - accuracy: 0.9683\n",
            "Epoch 5/20\n",
            "1200/1200 [==============================] - 33s 28ms/step - loss: 0.1818 - accuracy: 0.9661\n",
            "Epoch 6/20\n",
            "1200/1200 [==============================] - 33s 28ms/step - loss: 0.2026 - accuracy: 0.9629\n",
            "Epoch 7/20\n",
            "1200/1200 [==============================] - 33s 28ms/step - loss: 0.2104 - accuracy: 0.9632\n",
            "Epoch 8/20\n",
            "1200/1200 [==============================] - 33s 28ms/step - loss: 0.2345 - accuracy: 0.9602\n",
            "Epoch 9/20\n",
            "1200/1200 [==============================] - 33s 28ms/step - loss: 0.2571 - accuracy: 0.9589\n",
            "Epoch 10/20\n",
            "1200/1200 [==============================] - 33s 28ms/step - loss: 0.2833 - accuracy: 0.9566\n",
            "Epoch 11/20\n",
            "1200/1200 [==============================] - 33s 28ms/step - loss: 0.2737 - accuracy: 0.9561\n",
            "Epoch 12/20\n",
            "1200/1200 [==============================] - 33s 28ms/step - loss: 0.2953 - accuracy: 0.9550\n",
            "Epoch 13/20\n",
            "1200/1200 [==============================] - 33s 28ms/step - loss: 0.3385 - accuracy: 0.9513\n",
            "Epoch 14/20\n",
            "1200/1200 [==============================] - 33s 28ms/step - loss: 0.3562 - accuracy: 0.9458\n",
            "Epoch 15/20\n",
            "1200/1200 [==============================] - 33s 28ms/step - loss: 0.3598 - accuracy: 0.9489\n",
            "Epoch 16/20\n",
            "1200/1200 [==============================] - 33s 28ms/step - loss: 0.3617 - accuracy: 0.9447\n",
            "Epoch 17/20\n",
            "1200/1200 [==============================] - 33s 28ms/step - loss: 0.4145 - accuracy: 0.9383\n",
            "Epoch 18/20\n",
            "1200/1200 [==============================] - 33s 28ms/step - loss: 0.4290 - accuracy: 0.9372\n",
            "Epoch 19/20\n",
            "1200/1200 [==============================] - 33s 28ms/step - loss: 0.4192 - accuracy: 0.9357\n",
            "Epoch 20/20\n",
            "1200/1200 [==============================] - 33s 28ms/step - loss: 0.4695 - accuracy: 0.9306\n"
          ]
        },
        {
          "output_type": "execute_result",
          "data": {
            "text/plain": [
              "<keras.callbacks.History at 0x7f8b301885d0>"
            ]
          },
          "metadata": {},
          "execution_count": 14
        }
      ]
    },
    {
      "cell_type": "code",
      "source": [
        "# using model for testing and getting accuracy of 97%\n",
        "new_model.evaluate(x_test,y_test,batch_size = 80)"
      ],
      "metadata": {
        "colab": {
          "base_uri": "https://localhost:8080/"
        },
        "id": "wT0iU9UxdgYn",
        "outputId": "2bc806e9-3208-4063-9f1e-d0ecff4d12a5"
      },
      "execution_count": null,
      "outputs": [
        {
          "output_type": "stream",
          "name": "stdout",
          "text": [
            "125/125 [==============================] - 1s 6ms/step - loss: 0.3285 - accuracy: 0.9666\n"
          ]
        },
        {
          "output_type": "execute_result",
          "data": {
            "text/plain": [
              "[0.32848820090293884, 0.9666000008583069]"
            ]
          },
          "metadata": {},
          "execution_count": 15
        }
      ]
    },
    {
      "cell_type": "code",
      "source": [
        "# doing some manual testing\n",
        "def cal(ip):\n",
        "  testing_img = x_test[ip]\n",
        "  testing_img2 = testing_img.reshape(-1,28,28,1)\n",
        "  pred = new_model.predict(testing_img2)\n",
        "  class_id = np.argmax(pred[0])\n",
        "  print(\"Predicted image value :\",class_id)"
      ],
      "metadata": {
        "id": "iFZCznUJjnrY"
      },
      "execution_count": null,
      "outputs": []
    },
    {
      "cell_type": "code",
      "source": [
        "ip = int(input(\"Enter a value from 0 to 9999 :\"))\n",
        "cal(ip)\n",
        "dummy = np.reshape(x_test[ip],(28,28))\n",
        "plt.imshow(dummy)"
      ],
      "metadata": {
        "colab": {
          "base_uri": "https://localhost:8080/",
          "height": 317
        },
        "id": "_E3mb-1aekwm",
        "outputId": "44a74008-45b7-466d-d9ec-d2432c1b8b0b"
      },
      "execution_count": null,
      "outputs": [
        {
          "output_type": "stream",
          "name": "stdout",
          "text": [
            "Enter a value from 0 to 9999 :9000\n",
            "Predicted image value : 7\n"
          ]
        },
        {
          "output_type": "execute_result",
          "data": {
            "text/plain": [
              "<matplotlib.image.AxesImage at 0x7f8abc147210>"
            ]
          },
          "metadata": {},
          "execution_count": 17
        },
        {
          "output_type": "display_data",
          "data": {
            "text/plain": [
              "<Figure size 432x288 with 1 Axes>"
            ],
            "image/png": "[encoded data removed]"
          },
          "metadata": {
            "needs_background": "light"
          }
        }
      ]
    },
    {
      "cell_type": "code",
      "source": [],
      "metadata": {
        "id": "W84EOsGRhOqa"
      },
      "execution_count": null,
      "outputs": []
    },
    {
      "cell_type": "code",
      "source": [],
      "metadata": {
        "id": "Ysim-ttzjUL1"
      },
      "execution_count": null,
      "outputs": []
    }
  ]
}